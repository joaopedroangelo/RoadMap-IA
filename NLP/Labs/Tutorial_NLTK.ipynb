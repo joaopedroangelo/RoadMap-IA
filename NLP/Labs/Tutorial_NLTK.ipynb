{
  "cells": [
    {
      "cell_type": "markdown",
      "metadata": {
        "id": "5jmoOHiwFIi4"
      },
      "source": [
        "Adaptado de um notebook dos Autores: Arnaldo Gualberto e Leandro B. Marinho.\n",
        "Documentação do NLTK: https://www.nltk.org/"
      ]
    },
    {
      "cell_type": "markdown",
      "metadata": {
        "id": "WRM4kEujWfvh"
      },
      "source": [
        "# Tutorial NLTK\n",
        "\n",
        "Nesse notebooks, nós vamos aprender o básico do módulo `NLTK`(*__N__atural __L__anguage __T__ool**K**it*).\n",
        "\n",
        "Primeiramente, vamos importar as bibliotecas python que vamos usar nesse tutorial:"
      ]
    },
    {
      "cell_type": "code",
      "execution_count": null,
      "metadata": {
        "id": "EJ5lxzoWTTkH"
      },
      "outputs": [
        {
          "ename": "",
          "evalue": "",
          "output_type": "error",
          "traceback": [
            "\u001b[1;31mRunning cells with 'Python 3.12.3' requires the ipykernel package.\n",
            "\u001b[1;31m<a href='command:jupyter.createPythonEnvAndSelectController'>Create a Python Environment</a> with the required packages.\n",
            "\u001b[1;31mOr install 'ipykernel' using the command: '/bin/python3 -m pip install ipykernel -U --user --force-reinstall'"
          ]
        }
      ],
      "source": [
        "import nltk\n",
        "from nltk.corpus import stopwords\n",
        "from nltk.stem import PorterStemmer, SnowballStemmer, WordNetLemmatizer\n",
        "from nltk.tokenize import sent_tokenize, word_tokenize\n"
      ]
    },
    {
      "cell_type": "markdown",
      "metadata": {
        "id": "TSEiZiM-WyDH"
      },
      "source": [
        "e vamos fazer o download de alguns módulos específicos do NLTK:"
      ]
    },
    {
      "cell_type": "code",
      "execution_count": null,
      "metadata": {
        "colab": {
          "base_uri": "https://localhost:8080/"
        },
        "id": "oovkh3xLWVob",
        "outputId": "b47f208c-676d-4f81-b930-120b7326ba0a"
      },
      "outputs": [
        {
          "name": "stderr",
          "output_type": "stream",
          "text": [
            "[nltk_data] Downloading package stopwords to /root/nltk_data...\n",
            "[nltk_data]   Package stopwords is already up-to-date!\n",
            "[nltk_data] Downloading package wordnet to /root/nltk_data...\n",
            "[nltk_data]   Package wordnet is already up-to-date!\n",
            "[nltk_data] Downloading package punkt_tab to /root/nltk_data...\n",
            "[nltk_data]   Package punkt_tab is already up-to-date!\n"
          ]
        },
        {
          "data": {
            "text/plain": [
              "True"
            ]
          },
          "execution_count": 17,
          "metadata": {},
          "output_type": "execute_result"
        }
      ],
      "source": [
        "nltk.download('stopwords')\n",
        "nltk.download('wordnet')\n",
        "nltk.download('punkt_tab')"
      ]
    },
    {
      "cell_type": "markdown",
      "metadata": {
        "id": "qTvWr6xRTmlt"
      },
      "source": [
        "# Tokenization"
      ]
    },
    {
      "cell_type": "markdown",
      "metadata": {
        "id": "LpficJZbXrnE"
      },
      "source": [
        "**Tokenization** é o processo de transformar um texto em uma lista de tokens. Esses tokens podem ser sentenças, palavras ou símbolos."
      ]
    },
    {
      "cell_type": "markdown",
      "metadata": {
        "id": "iq1pPGC5UUPC"
      },
      "source": [
        "### Sentence Tokenization"
      ]
    },
    {
      "cell_type": "code",
      "execution_count": null,
      "metadata": {
        "colab": {
          "base_uri": "https://localhost:8080/"
        },
        "id": "cN91rVCVTjEe",
        "outputId": "f7c40530-3ef0-4c38-ff7e-e0cf1636fe19"
      },
      "outputs": [
        {
          "name": "stdout",
          "output_type": "stream",
          "text": [
            "['Hello Mr. Smith, how are you doing today?', 'The weather is great, and city is awesome.', 'The sky is pinkish-blue.', \"You shouldn't eat cardboard\"]\n"
          ]
        }
      ],
      "source": [
        "text = \"\"\"Hello Mr. Smith, how are you doing today?\n",
        "    The weather is great, and city is awesome.\n",
        "    The sky is pinkish-blue. You shouldn't eat cardboard\n",
        "\"\"\"\n",
        "\n",
        "tokenized_sent = sent_tokenize(text)\n",
        "print(tokenized_sent)"
      ]
    },
    {
      "cell_type": "markdown",
      "metadata": {
        "id": "n_Mjh26VvwoI"
      },
      "source": [
        "Nós também podemos tokenizar outras linguas:"
      ]
    },
    {
      "cell_type": "code",
      "execution_count": null,
      "metadata": {
        "colab": {
          "base_uri": "https://localhost:8080/"
        },
        "id": "ppCFC0KivJFB",
        "outputId": "45af772d-2614-412d-82d5-6047320674ce"
      },
      "outputs": [
        {
          "name": "stdout",
          "output_type": "stream",
          "text": [
            "['Bom dia, Sr. Smith.', 'Como você está?', 'O tempo está bom, e a cidade maravilhosa.']\n"
          ]
        }
      ],
      "source": [
        "portuguese_text = \"Bom dia, Sr. Smith. Como você está? O tempo está bom, e a cidade maravilhosa.\"\n",
        "\n",
        "print(sent_tokenize(portuguese_text, \"portuguese\"))"
      ]
    },
    {
      "cell_type": "markdown",
      "metadata": {
        "id": "ZC8SE9fOUW5m"
      },
      "source": [
        "### Word Tokenization"
      ]
    },
    {
      "cell_type": "code",
      "execution_count": null,
      "metadata": {
        "colab": {
          "base_uri": "https://localhost:8080/"
        },
        "id": "uKu1A9cyT6UA",
        "outputId": "24eccf1c-2980-42cb-ce7d-7260f2b00d98"
      },
      "outputs": [
        {
          "name": "stdout",
          "output_type": "stream",
          "text": [
            "['Hello', 'Mr.', 'Smith', ',', 'how', 'are', 'you', 'doing', 'today', '?', 'The', 'weather', 'is', 'great', ',', 'and', 'city', 'is', 'awesome', '.', 'The', 'sky', 'is', 'pinkish-blue', '.', 'You', 'should', \"n't\", 'eat', 'cardboard']\n"
          ]
        }
      ],
      "source": [
        "tokenized_word = word_tokenize(text)\n",
        "print(tokenized_word)"
      ]
    },
    {
      "cell_type": "markdown",
      "metadata": {
        "id": "p7FppDhwVx_d"
      },
      "source": [
        "# Stopwords"
      ]
    },
    {
      "cell_type": "code",
      "execution_count": null,
      "metadata": {
        "colab": {
          "base_uri": "https://localhost:8080/"
        },
        "id": "9miqaLILVjKz",
        "outputId": "aa0cb8bb-1111-46e3-a79d-1e3b42870ce8"
      },
      "outputs": [
        {
          "name": "stdout",
          "output_type": "stream",
          "text": [
            "{\"i'll\", \"they'll\", 'few', 'of', \"wouldn't\", 've', 'did', 'out', 'by', \"that'll\", 'until', \"we'd\", 'are', \"she'll\", 'into', 'to', 'my', 'once', 'not', 'why', \"hadn't\", 'don', 'in', 'now', 'was', 'most', 'had', 'can', \"didn't\", 'o', 'll', 'hadn', 'too', 'couldn', 'theirs', \"we're\", \"couldn't\", \"you're\", 'she', \"he'll\", 'some', 'very', 'before', 'for', 'his', 'above', 'its', \"aren't\", 'if', 're', \"she'd\", 'the', \"we'll\", 'y', 'as', \"he'd\", \"isn't\", 'there', \"he's\", \"shouldn't\", 'they', 'am', 'nor', \"we've\", 'weren', 'what', 'd', 'having', 'you', 'under', 'about', 'ain', 'mustn', 'myself', \"won't\", \"you'd\", 'further', 'so', 'but', \"they're\", 'we', 'didn', 'have', 'only', 'shouldn', \"wasn't\", 'these', 'needn', 'those', 'doing', 'off', 'where', 'itself', 'me', \"they've\", 'yours', 'wouldn', \"should've\", 'yourself', \"it'd\", 'while', 'same', 'through', 'below', 'whom', 'ours', 'been', 'such', 'between', 'were', 'isn', 'this', 'which', 'then', 'won', 'down', 'than', 'over', 'at', 'be', 'here', 'ourselves', 'more', 'shan', 'any', 'during', \"needn't\", \"they'd\", 'who', 'it', \"you'll\", 'herself', 'again', \"it'll\", \"don't\", 'i', 's', 'on', 'is', 'when', 'her', 'and', 'wasn', 'm', \"she's\", 'ma', 'will', \"mustn't\", 't', \"i'm\", \"weren't\", 'own', 'their', 'do', \"hasn't\", \"i've\", 'a', 'mightn', 'how', 'all', 'yourselves', 'should', 'does', 'hasn', \"mightn't\", 'no', 'doesn', 'each', 'that', 'up', \"i'd\", 'them', 'or', 'after', 'being', 'our', 'has', 'with', 'himself', 'from', 'because', 'other', \"shan't\", 'an', \"you've\", 'haven', \"haven't\", 'him', 'against', \"doesn't\", 'aren', 'your', \"it's\", 'themselves', 'hers', 'both', 'he', 'just'}\n"
          ]
        }
      ],
      "source": [
        "stop_words = set(stopwords.words(\"english\"))\n",
        "\n",
        "print(stop_words)"
      ]
    },
    {
      "cell_type": "code",
      "execution_count": null,
      "metadata": {
        "colab": {
          "base_uri": "https://localhost:8080/"
        },
        "id": "_95gRDn01Iue",
        "outputId": "5eefa620-eb66-43fd-f205-e0045dc05b93"
      },
      "outputs": [
        {
          "name": "stdout",
          "output_type": "stream",
          "text": [
            "{'até', 'eu', 'sem', 'ele', 'tu', 'aquele', 'estou', 'teve', 'tínhamos', 'esse', 'fosse', 'aqueles', 'houveríamos', 'sejamos', 'tive', 'deles', 'ao', 'dos', 'como', 'depois', 'estiver', 'há', 'tivesse', 'forem', 'esteja', 'tiverem', 'pela', 'isto', 'vocês', 'muito', 'os', 'tenham', 'sejam', 'estiveram', 'nossa', 'estivessem', 'hajamos', 'houveram', 'o', 'foram', 'pelas', 'pelo', 'ser', 'fui', 'estiverem', 'por', 'aos', 'era', 'numa', 'for', 'houveria', 'esses', 'num', 'estas', 'houvessem', 'qual', 'as', 'tiver', 'nossos', 'hei', 'tinham', 'vos', 'te', 'tenho', 'com', 'houvesse', 'das', 'são', 'temos', 'serei', 'ou', 'teu', 'isso', 'entre', 'esteve', 'sou', 'estão', 'mas', 'teus', 'me', 'tuas', 'uma', 'minha', 'fôramos', 'minhas', 'aquelas', 'nem', 'também', 'houver', 'pelos', 'um', 'à', 'delas', 'estivemos', 'ela', 'tém', 'estar', 'estava', 'estive', 'não', 'de', 'éramos', 'houvéramos', 'para', 'havemos', 'seríamos', 'houvéssemos', 'houveremos', 'estamos', 'dela', 'fôssemos', 'esta', 'meus', 'seja', 'já', 'tiveram', 'estejamos', 'hão', 'tivéssemos', 'sua', 'suas', 'está', 'lhes', 'é', 'estes', 'aquela', 'houverá', 'tinha', 'haja', 'mesmo', 'nas', 'houve', 'nosso', 'haver', 'houveriam', 'aquilo', 'foi', 'do', 'estivéramos', 'a', 'e', 'elas', 'houvera', 'estivesse', 'da', 'este', 'houverão', 'houvermos', 'lhe', 'houverem', 'seu', 'houvemos', 'estejam', 'eram', 'será', 'seus', 'teriam', 'teríamos', 'tivera', 'tivéramos', 'mais', 'na', 'serão', 'dele', 'seriam', 'meu', 'nos', 'no', 'tem', 'estivéssemos', 'estivera', 'eles', 'em', 'essas', 'você', 'estávamos', 'quem', 'tua', 'terão', 'quando', 'que', 'hajam', 'estivermos', 'fora', 'somos', 'teria', 'se', 'nós', 'terei', 'teremos', 'estavam', 'tenhamos', 'tenha', 'seria', 'houverei', 'tivemos', 'só', 'fomos', 'fossem', 'tivermos', 'nossas', 'formos', 'às', 'seremos', 'tivessem', 'essa', 'terá'}\n"
          ]
        }
      ],
      "source": [
        "stop_words = set(stopwords.words(\"portuguese\"))\n",
        "\n",
        "print(stop_words)"
      ]
    },
    {
      "cell_type": "code",
      "execution_count": null,
      "metadata": {
        "colab": {
          "base_uri": "https://localhost:8080/"
        },
        "id": "2abEeQF8moH6",
        "outputId": "768d662c-6458-4a90-b888-21c4aaf4bd79"
      },
      "outputs": [
        {
          "name": "stdout",
          "output_type": "stream",
          "text": [
            "Tokenized Words: ['Hello', 'Mr.', 'Smith', ',', 'how', 'are', 'you', 'doing', 'today', '?', 'The', 'weather', 'is', 'great', ',', 'and', 'city', 'is', 'awesome', '.', 'The', 'sky', 'is', 'pinkish-blue', '.', 'You', 'should', \"n't\", 'eat', 'cardboard']\n",
            "Filterd Sentence: ['Hello', 'Mr.', 'Smith', ',', 'today', '?', 'The', 'weather', 'great', ',', 'city', 'awesome', '.', 'The', 'sky', 'pinkish-blue', '.', 'You', \"n't\", 'eat', 'cardboard']\n"
          ]
        }
      ],
      "source": [
        "filtered_words =  [word for word in tokenized_word if word not in stop_words]\n",
        "\n",
        "print(\"Tokenized Words:\", tokenized_word)\n",
        "print(\"Filterd Sentence:\", filtered_words)"
      ]
    },
    {
      "cell_type": "markdown",
      "metadata": {
        "id": "bCVPWBAgoLLn"
      },
      "source": [
        "# Stemming"
      ]
    },
    {
      "cell_type": "markdown",
      "metadata": {
        "id": "uvVgjJh1oRwo"
      },
      "source": [
        "A **Stemming** reduz as palavras aos seus radicais. Por exemplo, as palavras *connection*, *connected*, *connecting* serão reduzidas a \"*connect*\". Há diversos algoritmos de stemming, mas o mais famoso é o `Porter stemming`."
      ]
    },
    {
      "cell_type": "code",
      "execution_count": null,
      "metadata": {
        "colab": {
          "base_uri": "https://localhost:8080/"
        },
        "id": "5BG9nZY_m-xK",
        "outputId": "e654fbb5-2211-49d0-a6e1-7cdb23b63f48"
      },
      "outputs": [
        {
          "name": "stdout",
          "output_type": "stream",
          "text": [
            "Filtered Sentence: ['connect', 'connected', 'connecting']\n",
            "Stemmed Sentence: ['connect', 'connect', 'connect']\n"
          ]
        }
      ],
      "source": [
        "example_words = ['connect', 'connected', 'connecting']\n",
        "\n",
        "ps = PorterStemmer()\n",
        "\n",
        "stemmed_words = [ps.stem(w) for w in example_words]\n",
        "\n",
        "print(\"Filtered Sentence:\", example_words)\n",
        "print(\"Stemmed Sentence:\", stemmed_words)"
      ]
    },
    {
      "cell_type": "markdown",
      "metadata": {
        "id": "NbHqJ4mBwwtf"
      },
      "source": [
        "O algoritmo `SnowBall` pode faz o processo de stemming em até 13 línguas diferentes:"
      ]
    },
    {
      "cell_type": "code",
      "execution_count": null,
      "metadata": {
        "colab": {
          "base_uri": "https://localhost:8080/"
        },
        "id": "RKehdjzfwoPz",
        "outputId": "6417fd27-a15d-4ce9-eb00-41b9c4eae888"
      },
      "outputs": [
        {
          "name": "stdout",
          "output_type": "stream",
          "text": [
            "('arabic', 'danish', 'dutch', 'english', 'finnish', 'french', 'german', 'hungarian', 'italian', 'norwegian', 'porter', 'portuguese', 'romanian', 'russian', 'spanish', 'swedish')\n"
          ]
        }
      ],
      "source": [
        "print(SnowballStemmer.languages)"
      ]
    },
    {
      "cell_type": "code",
      "execution_count": null,
      "metadata": {
        "colab": {
          "base_uri": "https://localhost:8080/"
        },
        "id": "rKjqElS9xTCv",
        "outputId": "e0cc8ea9-7b88-4a5c-b80c-e9d928ecce03"
      },
      "outputs": [
        {
          "name": "stdout",
          "output_type": "stream",
          "text": [
            "Stemmed sentence: ['conexã', 'conect', 'conect', 'conect']\n"
          ]
        }
      ],
      "source": [
        "example_words = ['conexão', 'conectado', 'conectando', 'conectar']\n",
        "\n",
        "ss = SnowballStemmer(\"portuguese\")\n",
        "\n",
        "stemmed_words = [ss.stem(w) for w in example_words]\n",
        "\n",
        "print('Stemmed sentence:', stemmed_words)"
      ]
    },
    {
      "cell_type": "markdown",
      "metadata": {
        "id": "2v-4jMBmyj35"
      },
      "source": [
        "# Lemmatization"
      ]
    },
    {
      "cell_type": "markdown",
      "metadata": {
        "id": "YcEhAF2Ny02s"
      },
      "source": [
        "O processo de **Lemmatization** reduz as palavras à sua forma base, conhecida como *lemma*. Por exemplo, a palavra \"better\" tem \"good\" como sua lemma.  Em geral, é mais sofisticada que o stemming, pois leva em consideração o contexto. Entretanto, é mais lenta que o stemming."
      ]
    },
    {
      "cell_type": "code",
      "execution_count": null,
      "metadata": {
        "colab": {
          "base_uri": "https://localhost:8080/"
        },
        "id": "fGa59T4DyjfX",
        "outputId": "735f613f-4e44-42db-bedc-a9898c565c74"
      },
      "outputs": [
        {
          "name": "stdout",
          "output_type": "stream",
          "text": [
            "stone\n",
            "speak\n",
            "are\n",
            "gees\n",
            "went\n"
          ]
        }
      ],
      "source": [
        "stemmer = PorterStemmer()\n",
        "print(stemmer.stem('stones'))\n",
        "print(stemmer.stem('speaking'))\n",
        "print(stemmer.stem('are'))\n",
        "print(stemmer.stem('geese'))\n",
        "print(stemmer.stem('went'))"
      ]
    },
    {
      "cell_type": "code",
      "execution_count": null,
      "metadata": {
        "colab": {
          "base_uri": "https://localhost:8080/"
        },
        "id": "z2t99kdF0Odw",
        "outputId": "08bbad34-83a1-4448-ecee-83c49883139f"
      },
      "outputs": [
        {
          "name": "stdout",
          "output_type": "stream",
          "text": [
            "stone\n",
            "speak\n",
            "be\n",
            "goose\n",
            "go\n"
          ]
        }
      ],
      "source": [
        "lemmatizer = WordNetLemmatizer()\n",
        "print(lemmatizer.lemmatize('stones'))\n",
        "print(lemmatizer.lemmatize('speaking',pos='v'))\n",
        "print(lemmatizer.lemmatize('are',pos='v'))\n",
        "print(lemmatizer.lemmatize('geese'))\n",
        "print(lemmatizer.lemmatize('went',pos='v'))"
      ]
    },
    {
      "cell_type": "markdown",
      "metadata": {
        "id": "0X2KHx2JqX18"
      },
      "source": [
        "# POS Tagging"
      ]
    },
    {
      "cell_type": "markdown",
      "metadata": {
        "id": "I4oONY8Vq-Ly"
      },
      "source": [
        "O principal objetivo de **Part-of-Speech (POS)** é identificar o grupo gramatical de uma certa palavra: *nome, pronome, adjetivo, verbo, advérbio, etc. Ela leva em consideração o contexto e procura por relacionamentos dentro da sentença e atribui uma tag correspondente a palavra."
      ]
    },
    {
      "cell_type": "code",
      "execution_count": null,
      "metadata": {
        "id": "ZcoQOxHepioT"
      },
      "outputs": [],
      "source": [
        "sent = \"Albert Einstein was born in Ulm, Germany in 1879.\"\n",
        "\n",
        "tokens = nltk.word_tokenize(sent)\n",
        "print('Sentence:', tokens)\n",
        "\n",
        "nltk.pos_tag(tokens)"
      ]
    },
    {
      "cell_type": "markdown",
      "metadata": {
        "id": "EKiswMgz4a0W"
      },
      "source": [
        "# N-Gramas\n"
      ]
    },
    {
      "cell_type": "markdown",
      "metadata": {
        "id": "EySPJDjO4hIm"
      },
      "source": [
        "Sequências sobrepostas de n-palavras."
      ]
    },
    {
      "cell_type": "code",
      "execution_count": null,
      "metadata": {
        "id": "NpvnfsJnqhFk"
      },
      "outputs": [],
      "source": [
        "from nltk import bigrams\n",
        "string_bigrams = list(bigrams(tokenized_word))\n",
        "print(string_bigrams)\n"
      ]
    },
    {
      "cell_type": "code",
      "execution_count": null,
      "metadata": {
        "id": "cKactEzptH1n"
      },
      "outputs": [],
      "source": []
    }
  ],
  "metadata": {
    "colab": {
      "collapsed_sections": [
        "0X2KHx2JqX18",
        "EKiswMgz4a0W"
      ],
      "provenance": []
    },
    "kernelspec": {
      "display_name": "Python 3",
      "name": "python3"
    },
    "language_info": {
      "name": "python",
      "version": "3.12.3"
    }
  },
  "nbformat": 4,
  "nbformat_minor": 0
}

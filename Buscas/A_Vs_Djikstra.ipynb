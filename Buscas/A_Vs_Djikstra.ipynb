{
  "nbformat": 4,
  "nbformat_minor": 0,
  "metadata": {
    "colab": {
      "provenance": []
    },
    "kernelspec": {
      "name": "python3",
      "display_name": "Python 3"
    }
  },
  "cells": [
    {
      "cell_type": "code",
      "metadata": {
        "id": "_1kX-trTUE6R"
      },
      "source": [
        "#################################\n",
        "## Describes the rectangle map ##\n",
        "## - S - Start point           ##\n",
        "## - E - End point             ##\n",
        "## - # - Wall                  ##\n",
        "#################################\n",
        "MAP = [\n",
        "    \".........####.\",\n",
        "    \"..####......#.\",\n",
        "    \"..#.....###...\",\n",
        "    \"..#...###...#.\",\n",
        "    \"..#.E.#..##...\",\n",
        "    \"..#####..#....\",\n",
        "    \"S.............\",\n",
        "]"
      ],
      "execution_count": null,
      "outputs": []
    },
    {
      "cell_type": "code",
      "metadata": {
        "id": "IomdsDTGUJV0"
      },
      "source": [
        "### Describes model of Map\n",
        "\n",
        "class SquareGrid:\n",
        "\n",
        "    def __init__(self, string_map):\n",
        "        self.string_map = string_map\n",
        "        self.end_position = None\n",
        "        self.start_position = None\n",
        "        self.walls = []\n",
        "        self.height = len(string_map)\n",
        "        self.width  = len(string_map[0])\n",
        "\n",
        "        ## Validate input\n",
        "        for i in range(0, self.height):\n",
        "            if(len(string_map[i]) != self.width):\n",
        "                 raise Exception(\"Map does not have correct size\")\n",
        "            for j in range(0, self.width):\n",
        "                if(string_map[i][j] == \"#\"):\n",
        "                    self.walls.append((i, j))\n",
        "                if(string_map[i][j] == \"S\"):\n",
        "                    self.start_position = (i, j)\n",
        "                if(string_map[i][j] == \"E\"):\n",
        "                    self.end_position = (i, j)\n",
        "        if(self.end_position == None or self.start_position == None):\n",
        "            raise Exception(\"Map does not have 'Start' or 'End' Positions\")\n",
        "\n",
        "\n",
        "    def in_bounds(self, id):\n",
        "        (x, y) = id\n",
        "        return 0 <= x < self.width and 0 <= y < self.height\n",
        "\n",
        "    def passable(self, id):\n",
        "        return id not in self.walls\n",
        "\n",
        "    def neighbors(self, id):\n",
        "        (x, y) = id\n",
        "        results = [(x+1, y), (x, y-1), (x-1, y), (x, y+1)]\n",
        "\n",
        "        results = filter(self.in_bounds, results)\n",
        "        results = filter(self.passable, results)\n",
        "        return results\n",
        "\n",
        "    def cost(self, current, next):\n",
        "        return 1\n",
        "\n",
        "\n",
        "    def get_start_end_positions(self):\n",
        "        return self.start_position, self.end_position;\n",
        "\n",
        "    def draw(self, path = []):\n",
        "        new_map = []\n",
        "        # Fill empty\n",
        "        for x in range(self.height):\n",
        "            new_map.append(\".\" * self.width)\n",
        "\n",
        "        # Draw Walls\n",
        "        for x in self.walls:\n",
        "            (i, j) = x\n",
        "            row = list(new_map[i])\n",
        "            row[j] = \"#\"\n",
        "            new_map[i] = \"\".join(row)\n",
        "\n",
        "        # Draw Path\n",
        "        for x in path:\n",
        "            (i, j) = x\n",
        "            row = list(new_map[i])\n",
        "            row[j] = \"x\"\n",
        "            new_map[i] = \"\".join(row)\n",
        "\n",
        "        # Draw Start end End  Point\n",
        "        (i, j) = self.start_position\n",
        "        row = list(new_map[i])\n",
        "        row[j] = \"S\"\n",
        "        new_map[i] = \"\".join(row)\n",
        "\n",
        "        (i, j) = self.end_position\n",
        "        row = list(new_map[i])\n",
        "        row[j] = \"E\"\n",
        "        new_map[i] = \"\".join(row)\n",
        "\n",
        "        # Draw Map\n",
        "        for i in new_map:\n",
        "            print(i)\n"
      ],
      "execution_count": null,
      "outputs": []
    },
    {
      "cell_type": "code",
      "metadata": {
        "id": "jY12LDmOUM4J",
        "colab": {
          "base_uri": "https://localhost:8080/"
        },
        "outputId": "c842299d-bcc6-4bc9-cb55-4349c292ee70"
      },
      "source": [
        "### Create a Map and draw it\n",
        "g = SquareGrid(MAP)\n",
        "g.draw()"
      ],
      "execution_count": null,
      "outputs": [
        {
          "output_type": "stream",
          "name": "stdout",
          "text": [
            ".........####.\n",
            "..####......#.\n",
            "..#.....###...\n",
            "..#...###...#.\n",
            "..#.E.#..##...\n",
            "..#####..#....\n",
            "S.............\n"
          ]
        }
      ]
    },
    {
      "cell_type": "code",
      "metadata": {
        "id": "egh8ifWFUUzI"
      },
      "source": [
        "### Queue with priority\n",
        "import heapq\n",
        "\n",
        "class PriorityQueue:\n",
        "    def __init__(self):\n",
        "        self.elements = []\n",
        "\n",
        "    def empty(self):\n",
        "        return len(self.elements) == 0\n",
        "\n",
        "    def put(self, item, priority):\n",
        "        heapq.heappush(self.elements, (priority, item))\n",
        "\n",
        "    def get(self):\n",
        "        return heapq.heappop(self.elements)[1]"
      ],
      "execution_count": null,
      "outputs": []
    },
    {
      "cell_type": "code",
      "metadata": {
        "id": "Y1hsOpkNUanZ"
      },
      "source": [
        "### Heuristic function for accounting in cost\n",
        "def heuristic(a, b):\n",
        "    (x1, y1) = a\n",
        "    (x2, y2) = b\n",
        "    return ((x1 - x2)**2 + (y1 - y2)**2)**.5\n",
        "\n",
        "### A Star Search algorithm\n",
        "def a_star_search(graph, start, goal):\n",
        "    frontier = PriorityQueue()\n",
        "    frontier.put(start, 0)\n",
        "    came_from = {}\n",
        "    cost_so_far = {}\n",
        "    came_from[start] = None\n",
        "    cost_so_far[start] = 0\n",
        "    counter = 0\n",
        "\n",
        "    while not frontier.empty():\n",
        "        current = frontier.get()\n",
        "\n",
        "        if current == goal:\n",
        "            break\n",
        "\n",
        "        for next in graph.neighbors(current):\n",
        "            new_cost = cost_so_far[current] + graph.cost(current, next)\n",
        "            if next not in cost_so_far or new_cost < cost_so_far[next]:\n",
        "                cost_so_far[next] = new_cost\n",
        "                priority = new_cost + heuristic(goal, next)\n",
        "                frontier.put(next, priority)\n",
        "                came_from[next] = current\n",
        "                counter += 1\n",
        "\n",
        "    return came_from, cost_so_far, counter\n",
        "\n",
        "### Finds the way between points according to dictionary\n",
        "def build_path(came_from, start, goal):\n",
        "    result = []\n",
        "    item = goal\n",
        "    result.append(item)\n",
        "    while (item != start):\n",
        "        item = came_from.get(item)\n",
        "        if(item == None):\n",
        "            raise Exception('There is no path')\n",
        "        result.append(item);\n",
        "\n",
        "    return result[::-1];"
      ],
      "execution_count": null,
      "outputs": []
    },
    {
      "cell_type": "code",
      "metadata": {
        "id": "kpO9vCW6qm4u",
        "colab": {
          "base_uri": "https://localhost:8080/"
        },
        "outputId": "81639ddc-28fb-4e86-b5d9-152d227eb34e"
      },
      "source": [
        "### Run Search\n",
        "start, goal = g.get_start_end_positions()\n",
        "came_from, cost_so_far, counter = a_star_search(g, start, goal)\n",
        "\n",
        "### Build Path\n",
        "path = build_path(came_from, start, goal)\n",
        "path.remove(start)\n",
        "path.remove(goal)\n",
        "\n",
        "### See result\n",
        "print(g.get_start_end_positions())\n",
        "print(path)\n"
      ],
      "execution_count": null,
      "outputs": [
        {
          "output_type": "stream",
          "name": "stdout",
          "text": [
            "((6, 0), (4, 4))\n",
            "[(6, 1), (5, 1), (4, 1), (3, 1), (2, 1), (1, 1), (0, 1), (0, 2), (0, 3), (0, 4), (0, 5), (0, 6), (1, 6), (2, 6), (2, 5), (3, 5), (3, 4)]\n"
          ]
        }
      ]
    },
    {
      "cell_type": "code",
      "metadata": {
        "id": "zKQhV86tpmWJ",
        "colab": {
          "base_uri": "https://localhost:8080/"
        },
        "outputId": "6f57c399-eea2-44b8-eaf1-9a379925a466"
      },
      "source": [
        "counter"
      ],
      "execution_count": null,
      "outputs": [
        {
          "output_type": "execute_result",
          "data": {
            "text/plain": [
              "78"
            ]
          },
          "metadata": {},
          "execution_count": 7
        }
      ]
    },
    {
      "cell_type": "code",
      "metadata": {
        "id": "5xHemxOtqnfS",
        "colab": {
          "base_uri": "https://localhost:8080/"
        },
        "outputId": "e3af6f8e-5984-421d-dfdb-25748b3e2981"
      },
      "source": [
        "### Draw Path\n",
        "g.draw(path)"
      ],
      "execution_count": null,
      "outputs": [
        {
          "output_type": "stream",
          "name": "stdout",
          "text": [
            ".xxxxxx..####.\n",
            ".x####x.....#.\n",
            ".x#..xx.###...\n",
            ".x#.xx###...#.\n",
            ".x#.E.#..##...\n",
            ".x#####..#....\n",
            "Sx............\n"
          ]
        }
      ]
    },
    {
      "cell_type": "code",
      "metadata": {
        "id": "t-UJ2L_8pk-r"
      },
      "source": [
        "######################\n",
        "# Dijkstra vs A-Star #\n",
        "######################\n",
        "\n",
        "def dijkstra_search(graph, start, goal):\n",
        "    frontier = PriorityQueue()\n",
        "    frontier.put(start, 0)\n",
        "    came_from = {}\n",
        "    cost_so_far = {}\n",
        "    came_from[start] = None\n",
        "    cost_so_far[start] = 0\n",
        "    counter = 0\n",
        "\n",
        "    while not frontier.empty():\n",
        "        current = frontier.get()\n",
        "\n",
        "        if current == goal:\n",
        "            break\n",
        "\n",
        "        for next in graph.neighbors(current):\n",
        "            new_cost = cost_so_far[current] + graph.cost(current, next)\n",
        "            if next not in cost_so_far or new_cost < cost_so_far[next]:\n",
        "                cost_so_far[next] = new_cost\n",
        "                priority = new_cost\n",
        "                frontier.put(next, priority)\n",
        "                came_from[next] = current\n",
        "                counter += 1\n",
        "\n",
        "\n",
        "\n",
        "    return came_from, cost_so_far, counter"
      ],
      "execution_count": null,
      "outputs": []
    },
    {
      "cell_type": "code",
      "metadata": {
        "id": "Yjj9pNrIsU_y",
        "colab": {
          "base_uri": "https://localhost:8080/"
        },
        "outputId": "0036750f-8bb1-4aed-c7d8-67d0c498ccd5"
      },
      "source": [
        "### Run Search\n",
        "start, goal = g.get_start_end_positions()\n",
        "came_from, cost_so_far, counter = dijkstra_search(g, start, goal)\n",
        "\n",
        "### Build Path\n",
        "path = build_path(came_from, start, goal)\n",
        "path.remove(start)\n",
        "path.remove(goal)\n",
        "\n",
        "### See result\n",
        "print(g.get_start_end_positions())\n",
        "print(path)\n"
      ],
      "execution_count": null,
      "outputs": [
        {
          "output_type": "stream",
          "name": "stdout",
          "text": [
            "((6, 0), (4, 4))\n",
            "[(5, 0), (4, 0), (3, 0), (2, 0), (1, 0), (0, 0), (0, 1), (0, 2), (0, 3), (0, 4), (0, 5), (0, 6), (1, 6), (2, 6), (2, 5), (2, 4), (3, 4)]\n"
          ]
        }
      ]
    },
    {
      "cell_type": "code",
      "metadata": {
        "id": "MGrwA7pJs5hp",
        "colab": {
          "base_uri": "https://localhost:8080/"
        },
        "outputId": "3596c343-9f30-46a3-bbce-8aa8d310e239"
      },
      "source": [
        "counter"
      ],
      "execution_count": null,
      "outputs": [
        {
          "output_type": "execute_result",
          "data": {
            "text/plain": [
              "83"
            ]
          },
          "metadata": {},
          "execution_count": 11
        }
      ]
    },
    {
      "cell_type": "code",
      "metadata": {
        "id": "aMlPc2IytAXv",
        "colab": {
          "base_uri": "https://localhost:8080/"
        },
        "outputId": "787e2b15-ce87-4972-ccde-cb74aea701eb"
      },
      "source": [
        "g.draw(path)"
      ],
      "execution_count": null,
      "outputs": [
        {
          "output_type": "stream",
          "name": "stdout",
          "text": [
            "xxxxxxx..####.\n",
            "x.####x.....#.\n",
            "x.#.xxx.###...\n",
            "x.#.x.###...#.\n",
            "x.#.E.#..##...\n",
            "x.#####..#....\n",
            "S.............\n"
          ]
        }
      ]
    },
    {
      "cell_type": "code",
      "metadata": {
        "id": "BBmYlgbItLg9"
      },
      "source": [
        "#################################\n",
        "#      Dynamic Comparison       #\n",
        "#################################\n",
        "import random\n",
        "STUB = [\"E.S\"]\n",
        "\n",
        "x = []\n",
        "y_a_start = []\n",
        "y_deijksta = []\n",
        "\n",
        "dim_max = 100\n",
        "\n",
        "for i in range(5,dim_max):\n",
        "    # Get number of corners\n",
        "    corners = int(i ** 0.4)\n",
        "\n",
        "    d = int(i/(corners + 1))\n",
        "    #print('{} {} {}'.format(d, corners, i));\n",
        "    graph = SquareGrid(STUB)\n",
        "    graph.height = i\n",
        "    graph.width  = i\n",
        "    graph.start_position = (0, 0)\n",
        "    graph.end_position   = (i-1, i-1)\n",
        "    graph.walls = []\n",
        "\n",
        "    for j in range (1, corners + 1):\n",
        "        # graph add corner wall point\n",
        "        st = j*d;\n",
        "        graph.walls.append((st, st))\n",
        "        wall_len = random.randint(1, st)\n",
        "\n",
        "        b = random.randint(0, 1);\n",
        "\n",
        "        # horizontal wall\n",
        "        for k in range(1, wall_len if b == 0 else st + 1):\n",
        "            graph.walls.append((st, st - k))\n",
        "        # vertical wall\n",
        "        for k in range(1,wall_len if b == 1 else st + 1):\n",
        "            graph.walls.append((st - k, st))\n",
        "\n",
        "    x.append(i)\n",
        "    start, goal = graph.get_start_end_positions()\n",
        "\n",
        "    came_from, cost_so_far, counter = a_star_search(graph, start, goal)\n",
        "    y_a_start.append(len(came_from))\n",
        "\n",
        "    path = build_path(came_from, start, goal)\n",
        "    path.remove(start)\n",
        "    path.remove(goal)\n",
        "\n",
        "    came_from, cost_so_far, counter = dijkstra_search(graph, start, goal)\n",
        "    y_deijksta.append(len(came_from))\n",
        "    path = build_path(came_from, start, goal)\n",
        "    path.remove(start)\n",
        "    path.remove(goal)"
      ],
      "execution_count": null,
      "outputs": []
    },
    {
      "cell_type": "code",
      "metadata": {
        "id": "e9Y-fXzF6FQD",
        "colab": {
          "base_uri": "https://localhost:8080/",
          "height": 472
        },
        "outputId": "ce6987bb-b762-4982-addd-a6545c4ca9d3"
      },
      "source": [
        "import matplotlib.pyplot as plt\n",
        "\n",
        "plt.xlabel('Map Size')\n",
        "plt.ylabel('Iteration Number')\n",
        "plt.title('A-Star VS Dijkstra')\n",
        "plt.plot(x, y_a_start, x, y_deijksta)\n",
        "plt.legend(['A-Star','Dijkstra'])\n",
        "plt.grid()\n",
        "plt.savefig('a_star_dijkstra.svg')\n",
        "plt.show()"
      ],
      "execution_count": null,
      "outputs": [
        {
          "output_type": "display_data",
          "data": {
            "text/plain": [
              "<Figure size 640x480 with 1 Axes>"
            ],
            "image/png": "[encoded data removed]"
          },
          "metadata": {}
        }
      ]
    }
  ]
}